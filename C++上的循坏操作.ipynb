{
 "cells": [
  {
   "cell_type": "code",
   "execution_count": null,
   "metadata": {},
   "outputs": [],
   "source": []
  },
  {
   "cell_type": "code",
   "execution_count": 1,
   "metadata": {
    "ExecuteTime": {
     "end_time": "2021-07-23T07:18:27.502036Z",
     "start_time": "2021-07-23T07:18:27.499898Z"
    }
   },
   "outputs": [],
   "source": [
    "#include <iostream>\n",
    "#include <map>\n",
    "using namespace std;"
   ]
  },
  {
   "cell_type": "code",
   "execution_count": 2,
   "metadata": {
    "ExecuteTime": {
     "end_time": "2021-07-23T07:18:27.567978Z",
     "start_time": "2021-07-23T07:18:27.502154Z"
    }
   },
   "outputs": [],
   "source": [
    "vector<int> demoList{0,1,2,3,4,5};\n",
    "map<int,string> demoMap{{0,\"zero\"},{1,\"one\"},{2,\"two\"},{3,\"three\"}};"
   ]
  },
  {
   "cell_type": "markdown",
   "metadata": {},
   "source": [
    "# for循环"
   ]
  },
  {
   "cell_type": "markdown",
   "metadata": {},
   "source": [
    "## 使用下标"
   ]
  },
  {
   "cell_type": "code",
   "execution_count": 3,
   "metadata": {
    "ExecuteTime": {
     "end_time": "2021-07-23T07:18:27.604442Z",
     "start_time": "2021-07-23T07:18:27.568116Z"
    }
   },
   "outputs": [
    {
     "name": "stdout",
     "output_type": "stream",
     "text": [
      "0,1,2,3,4,5,\n",
      "1one\n",
      "2two\n",
      "3three\n"
     ]
    }
   ],
   "source": [
    "for(size_t i=0;i<demoList.size();++i){\n",
    "    cout<<demoList[i]<<\",\";\n",
    "}\n",
    "cout<<endl;\n",
    "\n",
    "for(size_t i=1;i<demoMap.size();i++){\n",
    "    cout<<i<<demoMap[i]<<endl;\n",
    "}"
   ]
  },
  {
   "cell_type": "markdown",
   "metadata": {},
   "source": [
    "## 使用迭代器"
   ]
  },
  {
   "cell_type": "code",
   "execution_count": 4,
   "metadata": {
    "ExecuteTime": {
     "end_time": "2021-07-23T07:18:27.612530Z",
     "start_time": "2021-07-23T07:18:27.604539Z"
    }
   },
   "outputs": [
    {
     "name": "stdout",
     "output_type": "stream",
     "text": [
      "0,1,2,3,4,5,0-zero\n",
      "1-one\n",
      "2-two\n",
      "3-three\n"
     ]
    }
   ],
   "source": [
    "for(auto it=demoList.begin();it!=demoList.end();++it){\n",
    "    cout<<*it<<\",\";\n",
    "}\n",
    "for(auto it=demoMap.begin();it!=demoMap.end();++it){\n",
    "    cout<<it->first<<\"-\"<<it->second<<endl;\n",
    "}"
   ]
  },
  {
   "cell_type": "markdown",
   "metadata": {},
   "source": [
    "## 使用简化数组遍历(vs2008开始支持）"
   ]
  },
  {
   "cell_type": "code",
   "execution_count": 5,
   "metadata": {
    "ExecuteTime": {
     "end_time": "2021-07-23T07:18:27.613442Z",
     "start_time": "2021-07-23T07:18:27.612617Z"
    }
   },
   "outputs": [
    {
     "name": "stderr",
     "output_type": "stream",
     "text": [
      "\u001b[1minput_line_12:1:1: \u001b[0m\u001b[0;1;31merror: \u001b[0m\u001b[1mexpected unqualified-id\u001b[0m\n",
      "for each(auto item in demoList){\n",
      "\u001b[0;1;32m^\n",
      "\u001b[0m"
     ]
    },
    {
     "ename": "Interpreter Error",
     "evalue": "",
     "output_type": "error",
     "traceback": [
      "Interpreter Error: "
     ]
    }
   ],
   "source": [
    "for each(auto item in demoList){\n",
    "    cout<<item<<\",\";\n",
    "}"
   ]
  },
  {
   "cell_type": "markdown",
   "metadata": {},
   "source": [
    "## 使用STL函数"
   ]
  },
  {
   "cell_type": "code",
   "execution_count": 6,
   "metadata": {
    "ExecuteTime": {
     "end_time": "2021-07-23T07:18:37.252561Z",
     "start_time": "2021-07-23T07:18:37.251131Z"
    }
   },
   "outputs": [
    {
     "name": "stderr",
     "output_type": "stream",
     "text": [
      "\u001b[1minput_line_13:2:62: \u001b[0m\u001b[0;1;31merror: \u001b[0m\u001b[1mexpected body of lambda expression\u001b[0m\n",
      " std::for_each(demoList.begin(),demoList.end(),[](int inttem)){\n",
      "\u001b[0;1;32m                                                             ^\n",
      "\u001b[0m"
     ]
    },
    {
     "ename": "Interpreter Error",
     "evalue": "",
     "output_type": "error",
     "traceback": [
      "Interpreter Error: "
     ]
    }
   ],
   "source": [
    "std::for_each(demoList.begin(),demoList.end(),[](int inttem)){\n",
    "    cout<<item<<\",\";\n",
    "}"
   ]
  },
  {
   "cell_type": "markdown",
   "metadata": {},
   "source": [
    "## C++11新增支持"
   ]
  },
  {
   "cell_type": "code",
   "execution_count": 7,
   "metadata": {
    "ExecuteTime": {
     "end_time": "2021-07-23T07:18:38.823860Z",
     "start_time": "2021-07-23T07:18:38.819606Z"
    }
   },
   "outputs": [
    {
     "name": "stdout",
     "output_type": "stream",
     "text": [
      "0,1,2,3,4,5,"
     ]
    }
   ],
   "source": [
    "for(auto item:demoList){\n",
    "    cout<<item<<\",\";\n",
    "}"
   ]
  },
  {
   "cell_type": "code",
   "execution_count": 8,
   "metadata": {
    "ExecuteTime": {
     "end_time": "2021-07-23T07:18:41.278652Z",
     "start_time": "2021-07-23T07:18:41.273767Z"
    }
   },
   "outputs": [
    {
     "name": "stdout",
     "output_type": "stream",
     "text": [
      "0,2,4,6,8,10,"
     ]
    }
   ],
   "source": [
    "// 改变原list的值\n",
    "for(auto& item:demoList){\n",
    "    item *=2;\n",
    "}\n",
    "for(auto item:demoList){\n",
    "    cout<<item<<\",\";\n",
    "}"
   ]
  },
  {
   "cell_type": "markdown",
   "metadata": {},
   "source": [
    "# while"
   ]
  },
  {
   "cell_type": "code",
   "execution_count": 9,
   "metadata": {
    "ExecuteTime": {
     "end_time": "2021-07-23T07:18:45.158238Z",
     "start_time": "2021-07-23T07:18:45.155049Z"
    }
   },
   "outputs": [
    {
     "name": "stdout",
     "output_type": "stream",
     "text": [
      "0,2,4,6,8,10,"
     ]
    }
   ],
   "source": [
    "int listInd=0;\n",
    "while(listInd<demoList.size()){\n",
    "    cout<<demoList[listInd]<<\",\";\n",
    "    listInd+=1;\n",
    "}"
   ]
  },
  {
   "cell_type": "code",
   "execution_count": 10,
   "metadata": {
    "ExecuteTime": {
     "end_time": "2021-07-23T07:18:47.630679Z",
     "start_time": "2021-07-23T07:18:47.627042Z"
    }
   },
   "outputs": [
    {
     "name": "stdout",
     "output_type": "stream",
     "text": [
      "10,8,6,4,2,0,"
     ]
    }
   ],
   "source": [
    "int listSize=demoList.size();\n",
    "// listSize减到0时跳出循环\n",
    "while(listSize--){\n",
    "    cout<<demoList[listSize]<<\",\";\n",
    "}"
   ]
  },
  {
   "cell_type": "markdown",
   "metadata": {},
   "source": [
    "# do-while"
   ]
  },
  {
   "cell_type": "code",
   "execution_count": 11,
   "metadata": {
    "ExecuteTime": {
     "end_time": "2021-07-23T07:18:50.210340Z",
     "start_time": "2021-07-23T07:18:50.17782Z"
    }
   },
   "outputs": [
    {
     "name": "stdout",
     "output_type": "stream",
     "text": [
      "10,8,6,4,2,0,"
     ]
    }
   ],
   "source": [
    "listSize=demoList.size()-1;\n",
    "if(listSize>0){\n",
    "     do{\n",
    "        cout<<demoList[listSize]<<\",\";\n",
    "        listSize--;\n",
    "    }while(listSize>=0);   \n",
    "}"
   ]
  },
  {
   "cell_type": "code",
   "execution_count": null,
   "metadata": {},
   "outputs": [],
   "source": []
  }
 ],
 "metadata": {
  "kernelspec": {
   "display_name": "C++14",
   "language": "C++14",
   "name": "xcpp14"
  },
  "language_info": {
   "codemirror_mode": "text/x-c++src",
   "file_extension": ".cpp",
   "mimetype": "text/x-c++src",
   "name": "c++",
   "version": "14"
  },
  "toc": {
   "base_numbering": 1,
   "nav_menu": {},
   "number_sections": true,
   "sideBar": true,
   "skip_h1_title": false,
   "title_cell": "Table of Contents",
   "title_sidebar": "Contents",
   "toc_cell": false,
   "toc_position": {},
   "toc_section_display": true,
   "toc_window_display": false
  }
 },
 "nbformat": 4,
 "nbformat_minor": 4
}
