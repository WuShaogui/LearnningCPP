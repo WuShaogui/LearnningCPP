{
 "cells": [
  {
   "cell_type": "markdown",
   "metadata": {},
   "source": [
    "已知有以下树状请求，多线程应该如何完成这样的请求？\n",
    "\n",
    "        root\n",
    "    A          B\n",
    "C       D   E\n",
    "\n",
    "和正常请求的区别在于，请求之间有先后关系，新建一个请求树，然后使用递归处理请求\n"
   ]
  },
  {
   "cell_type": "code",
   "execution_count": 1,
   "metadata": {
    "vscode": {
     "languageId": "c++"
    }
   },
   "outputs": [],
   "source": [
    "#include <iostream>\n",
    "#include <thread>\n",
    "#include <string>\n",
    "using namespace std;"
   ]
  },
  {
   "cell_type": "code",
   "execution_count": 2,
   "metadata": {
    "vscode": {
     "languageId": "c++"
    }
   },
   "outputs": [],
   "source": [
    "class MyThread : public std::thread {\n",
    "public:\n",
    "    template <typename Function, typename... Args>\n",
    "    MyThread(Function&& func, Args&&... args): std::thread(std::forward<Function>(func), std::forward<Args>(args)...) \n",
    "    {\n",
    "        std::cout << \"Thread \" << this->get_id() << \" is starting \";\n",
    "        // 以下代码判断参数是否为空，不为空输出其data成员\n",
    "        // if (((args != nullptr),...)) {\n",
    "        //     ((std::cout << args->data << ' '), ...);\n",
    "        // }\n",
    "        std::cout << std::endl;\n",
    "    }\n",
    "    ~MyThread() {\n",
    "        std::cout << \"Thread \" << std::this_thread::get_id() << \" is exiting.\\n\";\n",
    "        // if (joinable()) {\n",
    "        //     _STD terminate();\n",
    "        // }\n",
    "    }\n",
    "};"
   ]
  },
  {
   "cell_type": "code",
   "execution_count": 3,
   "metadata": {
    "vscode": {
     "languageId": "c++"
    }
   },
   "outputs": [],
   "source": [
    "struct Node {\n",
    "    std::string data;\n",
    "    Node* left;\n",
    "    Node* right;\n",
    "};\n",
    "\n",
    "Node* root = new Node();\n",
    "root->data = \"root\";\n",
    "root->left = new Node();\n",
    "root->left->data = \"A\";\n",
    "root->right = new Node();\n",
    "root->right->data = \"B\";\n",
    "\n",
    "root->left->left = new Node();\n",
    "root->left->left->data=\"C\";\n",
    "root->left->right = new Node();\n",
    "root->left->right->data = \"D\";\n",
    "\n",
    "root->right->left = new Node();\n",
    "root->right->left->data = \"E\";"
   ]
  },
  {
   "cell_type": "code",
   "execution_count": 4,
   "metadata": {
    "vscode": {
     "languageId": "c++"
    }
   },
   "outputs": [],
   "source": [
    "// ---------------------遍历1:join跟随某个分支，则线程启动先在某个分支启动------------------\n",
    "void PreOrderTraversal(Node* node) {\n",
    "    if (node == nullptr) {\n",
    "        return;\n",
    "    }\n",
    "\n",
    "    // Print the data of node\n",
    "    std::cout << \"Enter:\" << node->data << std::endl;\n",
    "\n",
    "    if (node->left != nullptr)\n",
    "    {\n",
    "        //PreOrderTraversal(node->left);                           // 原生调用\n",
    "        //std::thread left_thread(PreOrderTraversal, node->left);  // std::thread\n",
    "        MyThread left_thread(PreOrderTraversal, node->left);       // 自定义多线程类\n",
    "\n",
    "        left_thread.join();\n",
    "    }\n",
    "    if (node->right != nullptr)\n",
    "    {\n",
    "        //PreOrderTraversal(node->right);\n",
    "        //std::thread right_thread(PreOrderTraversal, node->right);\n",
    "        MyThread right_thread(PreOrderTraversal, node->right);\n",
    "\n",
    "        right_thread.join();\n",
    "    }\n",
    "    //------------------------------------------------------------------------------------------\n",
    "\n",
    "    // ----------------------遍历2: join在最后，线程启动在各个分支以不同速度推进----------------\n",
    "    //MyThread left_thread(PreOrderTraversal, node->left);       // 自定义多线程类\n",
    "    //MyThread right_thread(PreOrderTraversal, node->right);\n",
    "    //left_thread.join();\n",
    "    //right_thread.join();\n",
    "    //------------------------------------------------------------------------------------------\n",
    "\n",
    "    std::cout <<\"Exit:\" << node->data << std::endl;\n",
    "}"
   ]
  },
  {
   "cell_type": "code",
   "execution_count": 5,
   "metadata": {
    "vscode": {
     "languageId": "c++"
    }
   },
   "outputs": [
    {
     "name": "stdout",
     "output_type": "stream",
     "text": [
      "Enter:root\n",
      "Thread 140284109932288 is starting \n",
      "Enter:A\n",
      "Thread 140283899541248 is starting \n",
      "Enter:C\n",
      "Exit:C\n",
      "Thread 140284109932288 is exiting.\n",
      "Thread 140283899541248 is starting \n",
      "Enter:D\n",
      "Exit:D\n",
      "Thread 140284109932288 is exiting.\n",
      "Exit:A\n",
      "Thread 140284366404096 is exiting.\n",
      "Thread 140284109932288 is starting \n",
      "Enter:B\n",
      "Thread 140283899541248 is starting \n",
      "Enter:E\n",
      "Exit:E\n",
      "Thread 140284109932288 is exiting.\n",
      "Exit:B\n",
      "Thread 140284366404096 is exiting.\n",
      "Exit:root\n"
     ]
    }
   ],
   "source": [
    "PreOrderTraversal(root);"
   ]
  },
  {
   "cell_type": "code",
   "execution_count": 6,
   "metadata": {
    "vscode": {
     "languageId": "c++"
    }
   },
   "outputs": [],
   "source": [
    "// ----------------------遍历2: join在最后，线程启动在各个分支以不同速度推进----------------\n",
    "void PreOrderTraversal2(Node* node) {\n",
    "    if (node == nullptr) {\n",
    "        return;\n",
    "    }\n",
    "\n",
    "    // Print the data of node\n",
    "    std::cout << \"Enter:\" << node->data << std::endl;\n",
    "\n",
    "    MyThread left_thread(PreOrderTraversal2, node->left);       // 自定义多线程类\n",
    "    MyThread right_thread(PreOrderTraversal2, node->right);\n",
    "    left_thread.join();\n",
    "    right_thread.join();\n",
    "\n",
    "    std::cout <<\"Exit:\" << node->data << std::endl;\n",
    "}"
   ]
  },
  {
   "cell_type": "code",
   "execution_count": 7,
   "metadata": {
    "vscode": {
     "languageId": "c++"
    }
   },
   "outputs": [
    {
     "name": "stdout",
     "output_type": "stream",
     "text": [
      "Enter:root\n",
      "Thread 140284109932288 is starting \n",
      "Thread 140283899541248 is starting \n",
      "Enter:Enter:B\n",
      "A\n",
      "Thread 140283891148544 is starting \n",
      "Thread 140283882755840 is starting \n",
      "Enter:Thread C\n",
      "140283874363136 is starting \n",
      "Thread 140283865970432 is starting \n",
      "Enter:E\n",
      "Enter:Thread D\n",
      "Thread 140283857577728 is starting \n",
      "140283849185024 is starting \n",
      "Thread 140283631105792 is starting \n",
      "Thread 140283622713088 is starting \n",
      "Exit:Thread C\n",
      "Thread 140283882755840 is exiting.\n",
      "Thread 140283882755840 is exiting.\n",
      "140283614320384 is starting \n",
      "Thread 140283605927680 is starting \n",
      "Exit:E\n",
      "Thread 140283891148544 is exiting.\n",
      "Thread 140283891148544 is exiting.\n",
      "Exit:D\n",
      "Thread 140283865970432 is exiting.\n",
      "Thread 140283865970432 is exiting.\n",
      "Exit:B\n",
      "Thread 140283899541248 is exiting.\n",
      "Thread 140283899541248 is exiting.\n",
      "Exit:A\n",
      "Thread 140284109932288 is exiting.\n",
      "Thread 140284109932288 is exiting.\n",
      "Exit:root\n",
      "Thread 140284366404096 is exiting.\n",
      "Thread 140284366404096 is exiting.\n"
     ]
    }
   ],
   "source": [
    "PreOrderTraversal2(root);"
   ]
  }
 ],
 "metadata": {
  "kernelspec": {
   "display_name": "C++14",
   "language": "C++14",
   "name": "xcpp14"
  },
  "language_info": {
   "codemirror_mode": "text/x-c++src",
   "file_extension": ".cpp",
   "mimetype": "text/x-c++src",
   "name": "C++14",
   "version": "14"
  }
 },
 "nbformat": 4,
 "nbformat_minor": 2
}
