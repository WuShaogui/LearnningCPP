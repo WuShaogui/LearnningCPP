{
 "cells": [
  {
   "cell_type": "markdown",
   "metadata": {},
   "source": [
    "## 主进程等待子线程"
   ]
  },
  {
   "cell_type": "code",
   "execution_count": 1,
   "metadata": {
    "ExecuteTime": {
     "end_time": "2021-08-03T07:37:33.933147Z",
     "start_time": "2021-08-03T07:37:33.909886Z"
    }
   },
   "outputs": [],
   "source": [
    "#include <iostream>\n",
    "#include <thread>\n",
    "using namespace std;"
   ]
  },
  {
   "cell_type": "code",
   "execution_count": 2,
   "metadata": {
    "ExecuteTime": {
     "end_time": "2021-08-03T07:37:33.935105Z",
     "start_time": "2021-08-03T07:37:33.933286Z"
    }
   },
   "outputs": [],
   "source": [
    "void thread01()\n",
    "{\n",
    "    for (int i = 0; i < 5; i++)\n",
    "    {\n",
    "        cout << \"Thread 01 is working ！\" << endl;\n",
    "    }\n",
    "}"
   ]
  },
  {
   "cell_type": "code",
   "execution_count": 3,
   "metadata": {
    "ExecuteTime": {
     "end_time": "2021-08-03T07:37:33.936014Z",
     "start_time": "2021-08-03T07:37:33.935236Z"
    }
   },
   "outputs": [],
   "source": [
    "void thread02()\n",
    "{\n",
    "    for (int i = 0; i < 5; i++)\n",
    "    {\n",
    "        cout << \"Thread 02 is working ！\" << endl;\n",
    "    }\n",
    "}"
   ]
  },
  {
   "cell_type": "code",
   "execution_count": 4,
   "metadata": {
    "ExecuteTime": {
     "end_time": "2021-08-03T07:37:33.975089Z",
     "start_time": "2021-08-03T07:37:33.936139Z"
    }
   },
   "outputs": [
    {
     "name": "stdout",
     "output_type": "stream",
     "text": [
      "Thread 01 is working ！\n",
      "Thread 01 is working ！\n",
      "Thread 01 is working ！\n",
      "Thread 01 is working ！\n",
      "Thread 01 is working ！\n",
      "Thread 02 is working ！\n",
      "Thread 02 is working ！\n",
      "Thread 02 is working ！\n",
      "Thread 02 is working ！\n",
      "Thread 02 is working ！\n",
      "Main thread is working ！\n",
      "Main thread is working ！\n",
      "Main thread is working ！\n",
      "Main thread is working ！\n",
      "Main thread is working ！\n"
     ]
    }
   ],
   "source": [
    "thread task01(thread01);\n",
    "thread task02(thread02);\n",
    "task01.join();\n",
    "task02.join();\n",
    "  \n",
    "for (int i = 0; i < 5; i++)\n",
    "{\n",
    "    cout << \"Main thread is working ！\" << endl;\n",
    "}\n",
    "system(\"pause\");"
   ]
  },
  {
   "cell_type": "markdown",
   "metadata": {},
   "source": [
    "## 主进程和子进程互不干扰"
   ]
  },
  {
   "cell_type": "code",
   "execution_count": 5,
   "metadata": {
    "ExecuteTime": {
     "end_time": "2021-08-03T07:37:34.154500Z",
     "start_time": "2021-08-03T07:37:33.975300Z"
    }
   },
   "outputs": [
    {
     "name": "stdout",
     "output_type": "stream",
     "text": [
      "Thread 01 is working ！\n",
      "Thread 01 is working ！\n",
      "Thread 01 is working ！\n",
      "Thread 01 is working ！\n",
      "Thread 01 is working ！\n",
      "Main thread is working ！\n",
      "Main thread is working ！\n",
      "Main thread is working ！\n",
      "Main thread is working ！\n",
      "Main thread is working ！\n",
      "Thread 02 is working ！\n",
      "Thread 02 is working ！\n",
      "Thread 02 is working ！\n",
      "Thread 02 is working ！\n",
      "Thread 02 is working ！\n"
     ]
    }
   ],
   "source": [
    "thread task03(thread01);\n",
    "thread task04(thread02);\n",
    "task03.detach();\n",
    "task04.detach();\n",
    "  \n",
    "for (int i = 0; i < 5; i++)\n",
    "{\n",
    "    cout << \"Main thread is working ！\" << endl;\n",
    "}\n",
    "system(\"pause\");"
   ]
  },
  {
   "cell_type": "markdown",
   "metadata": {},
   "source": [
    "## 带参数的子线程"
   ]
  },
  {
   "cell_type": "code",
   "execution_count": 6,
   "metadata": {
    "ExecuteTime": {
     "end_time": "2021-08-03T07:37:34.413600Z",
     "start_time": "2021-08-03T07:37:34.1822Z"
    }
   },
   "outputs": [],
   "source": [
    "//定义带参数子线程\n",
    "void thread03(int num)\n",
    "{\n",
    "    for (int i = 0; i < num; i++)\n",
    "    {\n",
    "        cout << \"Thread 01 is working ！\" << endl;\n",
    "    }\n",
    "}"
   ]
  },
  {
   "cell_type": "code",
   "execution_count": 7,
   "metadata": {
    "ExecuteTime": {
     "end_time": "2021-08-03T07:37:34.542800Z",
     "start_time": "2021-08-03T07:37:34.4290Z"
    }
   },
   "outputs": [],
   "source": [
    "void thread04(int num)\n",
    "{\n",
    "    for (int i = 0; i < num; i++)\n",
    "    {\n",
    "        cout << \"Thread 02 is working ！\" << endl;\n",
    "    }\n",
    "}"
   ]
  },
  {
   "cell_type": "code",
   "execution_count": 8,
   "metadata": {
    "ExecuteTime": {
     "end_time": "2021-08-03T07:37:34.456370Z",
     "start_time": "2021-08-03T07:37:34.5573Z"
    }
   },
   "outputs": [
    {
     "name": "stdout",
     "output_type": "stream",
     "text": [
      "Thread 01 is working ！\n",
      "Thread 01 is working ！\n",
      "Thread 01 is working ！\n",
      "Thread 01 is working ！\n",
      "Thread 01 is working ！\n",
      "Main thread is working ！\n",
      "Main thread is working ！\n",
      "Main thread is working ！\n",
      "Main thread is working ！\n",
      "Main thread is working ！\n",
      "Thread 02 is working ！\n",
      "Thread 02 is working ！\n",
      "Thread 02 is working ！\n",
      "Thread 02 is working ！\n",
      "Thread 02 is working ！\n",
      "Thread 02 is working ！\n"
     ]
    }
   ],
   "source": [
    "thread task05(thread03,5);\n",
    "thread task06(thread04,6);\n",
    "task05.detach();\n",
    "task06.detach();\n",
    "  \n",
    "for (int i = 0; i < 5; i++)\n",
    "{\n",
    "    cout << \"Main thread is working ！\" << endl;\n",
    "}\n",
    "system(\"pause\");"
   ]
  },
  {
   "cell_type": "markdown",
   "metadata": {},
   "source": [
    "## 多线程竞争的情况"
   ]
  },
  {
   "cell_type": "code",
   "execution_count": 9,
   "metadata": {
    "ExecuteTime": {
     "end_time": "2021-08-03T07:37:34.541330Z",
     "start_time": "2021-08-03T07:37:34.45791Z"
    }
   },
   "outputs": [],
   "source": [
    "#include <mutex>\n",
    "\n",
    "mutex mu;  //线程互斥对象\n",
    "int totalNum = 100;"
   ]
  },
  {
   "cell_type": "code",
   "execution_count": 10,
   "metadata": {
    "ExecuteTime": {
     "end_time": "2021-08-03T07:37:34.561870Z",
     "start_time": "2021-08-03T07:37:34.54260Z"
    }
   },
   "outputs": [],
   "source": [
    "void thread05()\n",
    "{\n",
    "    while (totalNum > 0)\n",
    "    {\n",
    "        mu.lock(); //同步数据锁\n",
    "        cout << totalNum << endl;\n",
    "        totalNum--;\n",
    "        mu.unlock();  //解除锁定\n",
    "    }\n",
    "}"
   ]
  },
  {
   "cell_type": "code",
   "execution_count": 11,
   "metadata": {
    "ExecuteTime": {
     "end_time": "2021-08-03T07:37:34.577030Z",
     "start_time": "2021-08-03T07:37:34.56331Z"
    }
   },
   "outputs": [],
   "source": [
    "void thread06()\n",
    "{\n",
    "    while (totalNum > 0)\n",
    "    {\n",
    "        mu.lock();\n",
    "        cout << totalNum << endl;\n",
    "        totalNum--;\n",
    "        mu.unlock();\n",
    "    }\n",
    "}"
   ]
  },
  {
   "cell_type": "code",
   "execution_count": 12,
   "metadata": {
    "ExecuteTime": {
     "end_time": "2021-08-03T07:37:34.820650Z",
     "start_time": "2021-08-03T07:37:34.57846Z"
    }
   },
   "outputs": [
    {
     "name": "stdout",
     "output_type": "stream",
     "text": [
      "100\n",
      "99\n",
      "98\n",
      "97\n",
      "96\n",
      "95\n",
      "94\n",
      "93\n",
      "92\n",
      "91\n",
      "90\n",
      "89\n",
      "88\n",
      "87\n",
      "86\n",
      "85\n",
      "84\n",
      "83\n",
      "82\n",
      "81\n",
      "80\n",
      "79\n",
      "78\n",
      "77\n",
      "76\n",
      "75\n",
      "74\n",
      "73\n",
      "72\n",
      "71\n",
      "70\n",
      "69\n",
      "68\n",
      "67\n",
      "66\n",
      "65\n",
      "64\n",
      "63\n",
      "62\n",
      "61\n",
      "60\n",
      "59\n",
      "58\n",
      "57\n",
      "56\n",
      "55\n",
      "54\n",
      "53\n",
      "52\n",
      "51\n",
      "50\n",
      "49\n",
      "48\n",
      "47\n",
      "46\n",
      "45\n",
      "44\n",
      "43\n",
      "42\n",
      "41\n",
      "40\n",
      "39\n",
      "38\n",
      "37\n",
      "36\n",
      "35\n",
      "34\n",
      "33\n",
      "32\n",
      "31\n",
      "30\n",
      "29\n",
      "28\n",
      "27\n",
      "26\n",
      "25\n",
      "24\n",
      "23\n",
      "22\n",
      "21\n",
      "20\n",
      "19\n",
      "18\n",
      "17\n",
      "16\n",
      "15\n",
      "14\n",
      "13\n",
      "12\n",
      "11\n",
      "10\n",
      "9\n",
      "8\n",
      "7\n",
      "6\n",
      "5\n",
      "4\n",
      "3\n",
      "2\n",
      "1\n",
      "0\n"
     ]
    }
   ],
   "source": [
    "thread task07(thread05);\n",
    "thread task08(thread06);\n",
    "task07.detach();\n",
    "task08.detach();\n",
    "system(\"pause\");"
   ]
  }
 ],
 "metadata": {
  "kernelspec": {
   "display_name": "C++14",
   "language": "C++14",
   "name": "xcpp14"
  },
  "language_info": {
   "codemirror_mode": "text/x-c++src",
   "file_extension": ".cpp",
   "mimetype": "text/x-c++src",
   "name": "c++",
   "version": "14"
  },
  "toc": {
   "base_numbering": 1,
   "nav_menu": {},
   "number_sections": true,
   "sideBar": true,
   "skip_h1_title": false,
   "title_cell": "Table of Contents",
   "title_sidebar": "Contents",
   "toc_cell": false,
   "toc_position": {},
   "toc_section_display": true,
   "toc_window_display": false
  }
 },
 "nbformat": 4,
 "nbformat_minor": 4
}
