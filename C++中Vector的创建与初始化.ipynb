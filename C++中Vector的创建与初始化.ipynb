{
 "cells": [
  {
   "cell_type": "code",
   "execution_count": null,
   "metadata": {},
   "outputs": [],
   "source": []
  },
  {
   "cell_type": "code",
   "execution_count": 1,
   "metadata": {
    "ExecuteTime": {
     "end_time": "2021-07-23T05:54:05.944977Z",
     "start_time": "2021-07-23T05:54:05.942388Z"
    }
   },
   "outputs": [],
   "source": [
    "#include <iostream>\n",
    "using namespace std;"
   ]
  },
  {
   "cell_type": "code",
   "execution_count": 2,
   "metadata": {
    "ExecuteTime": {
     "end_time": "2021-07-23T05:54:05.973266Z",
     "start_time": "2021-07-23T05:54:05.946675Z"
    }
   },
   "outputs": [
    {
     "name": "stdout",
     "output_type": "stream",
     "text": [
      "0,1,2,"
     ]
    }
   ],
   "source": [
    "vector<int> demoList01;\n",
    "demoList01.push_back(0);\n",
    "demoList01.push_back(1);\n",
    "demoList01.push_back(2);\n",
    "\n",
    "for(int val:demoList01){\n",
    "    std::cout<<val<<\",\";\n",
    "}"
   ]
  },
  {
   "cell_type": "code",
   "execution_count": 3,
   "metadata": {
    "ExecuteTime": {
     "end_time": "2021-07-23T05:54:05.990212Z",
     "start_time": "2021-07-23T05:54:05.973369Z"
    }
   },
   "outputs": [
    {
     "name": "stdout",
     "output_type": "stream",
     "text": [
      "0,1,2,0,1,2,"
     ]
    }
   ],
   "source": [
    "vector<int> demoList02(demoList01);\n",
    "for(int val:demoList02){\n",
    "    std::cout<<val<<\",\";\n",
    "}\n",
    "\n",
    "vector<int> demoList03=demoList01;\n",
    "for(int val:demoList03){\n",
    "    std::cout<<val<<\",\";\n",
    "}"
   ]
  },
  {
   "cell_type": "code",
   "execution_count": 4,
   "metadata": {
    "ExecuteTime": {
     "end_time": "2021-07-23T05:54:06.576800Z",
     "start_time": "2021-07-23T05:54:05.990313Z"
    }
   },
   "outputs": [
    {
     "name": "stdout",
     "output_type": "stream",
     "text": [
      "1,2,3,4,5,1,2,3,4,5,"
     ]
    }
   ],
   "source": [
    "vector<int> demoList04={1,2,3,4,5};\n",
    "for(int val:demoList04){\n",
    "    std::cout<<val<<\",\";\n",
    "}\n",
    "\n",
    "vector<int> demoList05{1,2,3,4,5};\n",
    "for(int val:demoList05){\n",
    "    std::cout<<val<<\",\";\n",
    "}"
   ]
  },
  {
   "cell_type": "code",
   "execution_count": 5,
   "metadata": {
    "ExecuteTime": {
     "end_time": "2021-07-23T05:54:06.213230Z",
     "start_time": "2021-07-23T05:54:06.5862Z"
    }
   },
   "outputs": [
    {
     "name": "stdout",
     "output_type": "stream",
     "text": [
      "2,3,4,"
     ]
    }
   ],
   "source": [
    "vector<int> demoList06(demoList05.begin()+1,demoList05.end()-1);\n",
    "for(int val:demoList06){\n",
    "    std::cout<<val<<\",\";\n",
    "}"
   ]
  },
  {
   "cell_type": "code",
   "execution_count": 6,
   "metadata": {
    "ExecuteTime": {
     "end_time": "2021-07-23T05:54:06.332210Z",
     "start_time": "2021-07-23T05:54:06.21419Z"
    }
   },
   "outputs": [
    {
     "name": "stdout",
     "output_type": "stream",
     "text": [
      "0,0,0,0,0,0,0,"
     ]
    }
   ],
   "source": [
    "vector<int> demoList07(7);\n",
    "for(int val:demoList07){\n",
    "    std::cout<<val<<\",\";\n",
    "}"
   ]
  },
  {
   "cell_type": "code",
   "execution_count": 7,
   "metadata": {
    "ExecuteTime": {
     "end_time": "2021-07-23T05:54:06.450520Z",
     "start_time": "2021-07-23T05:54:06.33315Z"
    }
   },
   "outputs": [
    {
     "name": "stdout",
     "output_type": "stream",
     "text": [
      "2,2,2,2,2,2,2,2,2,"
     ]
    }
   ],
   "source": [
    "vector<int> demoList08(9,2);\n",
    "for(int val:demoList08){\n",
    "    std::cout<<val<<\",\";\n",
    "}"
   ]
  }
 ],
 "metadata": {
  "kernelspec": {
   "display_name": "C++14",
   "language": "C++14",
   "name": "xcpp14"
  },
  "language_info": {
   "codemirror_mode": "text/x-c++src",
   "file_extension": ".cpp",
   "mimetype": "text/x-c++src",
   "name": "c++",
   "version": "14"
  },
  "toc": {
   "base_numbering": 1,
   "nav_menu": {},
   "number_sections": true,
   "sideBar": true,
   "skip_h1_title": false,
   "title_cell": "Table of Contents",
   "title_sidebar": "Contents",
   "toc_cell": false,
   "toc_position": {},
   "toc_section_display": true,
   "toc_window_display": false
  }
 },
 "nbformat": 4,
 "nbformat_minor": 4
}
