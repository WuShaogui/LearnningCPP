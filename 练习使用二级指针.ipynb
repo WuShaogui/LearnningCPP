{
 "cells": [
  {
   "cell_type": "code",
   "execution_count": 1,
   "metadata": {
    "ExecuteTime": {
     "end_time": "2021-08-24T01:57:14.514804Z",
     "start_time": "2021-08-24T01:57:14.513526Z"
    },
    "vscode": {
     "languageId": "c++"
    }
   },
   "outputs": [],
   "source": [
    "#include <iostream>\n",
    "using namespace std;"
   ]
  },
  {
   "attachments": {},
   "cell_type": "markdown",
   "metadata": {},
   "source": [
    "## 二级指针使用"
   ]
  },
  {
   "cell_type": "code",
   "execution_count": 2,
   "metadata": {
    "ExecuteTime": {
     "end_time": "2021-08-24T01:57:14.519139Z",
     "start_time": "2021-08-24T01:57:14.515319Z"
    },
    "vscode": {
     "languageId": "c++"
    }
   },
   "outputs": [],
   "source": [
    "int demo01()\n",
    "{\n",
    "     int a=5;\n",
    "     int *q=&a;\n",
    "     int **pp=&q;\n",
    "     //下面的两行输出在垂直方向上的相应值相同，由输出可知一级指针和二级指针的关系。\n",
    "     cout<<pp<<\" \"<<*pp<<\" \"<<*&pp<<\" \"<<**pp<<endl;\n",
    "     cout<<&q<<\" \"<< q <<\" \"<< &q <<\" \"<< *q <<endl;\n",
    "     return 0;\n",
    "}"
   ]
  },
  {
   "cell_type": "code",
   "execution_count": 3,
   "metadata": {
    "ExecuteTime": {
     "end_time": "2021-08-24T01:57:14.521623Z",
     "start_time": "2021-08-24T01:57:14.519260Z"
    },
    "vscode": {
     "languageId": "c++"
    }
   },
   "outputs": [
    {
     "name": "stdout",
     "output_type": "stream",
     "text": [
      "0x7ffe4f6c31b0 0x7ffe4f6c31bc 0x7ffe4f6c31b0 5\n",
      "0x7ffe4f6c31b0 0x7ffe4f6c31bc 0x7ffe4f6c31b0 5\n"
     ]
    }
   ],
   "source": [
    "demo01();"
   ]
  },
  {
   "attachments": {},
   "cell_type": "markdown",
   "metadata": {},
   "source": [
    "## 二级指针传参"
   ]
  },
  {
   "attachments": {},
   "cell_type": "markdown",
   "metadata": {},
   "source": [
    "### 修改二级指针的值"
   ]
  },
  {
   "cell_type": "code",
   "execution_count": 4,
   "metadata": {
    "ExecuteTime": {
     "end_time": "2021-08-24T01:57:14.522084Z",
     "start_time": "2021-08-24T01:57:14.521736Z"
    },
    "vscode": {
     "languageId": "c++"
    }
   },
   "outputs": [],
   "source": [
    "void make(int **pp)\n",
    "{\n",
    "    **pp = 66;//这样只是改变了指向的值，即a, 指向没有改变\n",
    "}"
   ]
  },
  {
   "cell_type": "code",
   "execution_count": 5,
   "metadata": {
    "ExecuteTime": {
     "end_time": "2021-08-24T01:57:14.526253Z",
     "start_time": "2021-08-24T01:57:14.522191Z"
    },
    "vscode": {
     "languageId": "c++"
    }
   },
   "outputs": [],
   "source": [
    "int demo02()\n",
    "{\n",
    "     int a=5;\n",
    "     int *q=&a;\n",
    "     int **pp=&q;\n",
    "     cout<<\"address:\"<<&pp<<\"  \"<<pp<<\"    \"<<&q<<\"   \"<<q<<\"      value:\"<<*q<<\"  \"<<a<<endl;\n",
    "     make(pp);\n",
    "     cout<<\"address:\"<<&pp<<\"  \"<<pp<<\"    \"<<&q<<\"   \"<<q<<\"      value:\"<<*q<<\"  \"<<a<<endl;\n",
    "     return 0;\n",
    "}"
   ]
  },
  {
   "cell_type": "code",
   "execution_count": 6,
   "metadata": {
    "ExecuteTime": {
     "end_time": "2021-08-24T01:57:14.529323Z",
     "start_time": "2021-08-24T01:57:14.526360Z"
    },
    "vscode": {
     "languageId": "c++"
    }
   },
   "outputs": [
    {
     "name": "stdout",
     "output_type": "stream",
     "text": [
      "address:0x7ffe4f6c31a8  0x7ffe4f6c31b0    0x7ffe4f6c31b0   0x7ffe4f6c31bc      value:5  5\n",
      "address:0x7ffe4f6c31a8  0x7ffe4f6c31b0    0x7ffe4f6c31b0   0x7ffe4f6c31bc      value:66  66\n"
     ]
    }
   ],
   "source": [
    "demo02();"
   ]
  },
  {
   "attachments": {},
   "cell_type": "markdown",
   "metadata": {},
   "source": [
    "### 修改二级指针的指向"
   ]
  },
  {
   "cell_type": "code",
   "execution_count": 7,
   "metadata": {
    "ExecuteTime": {
     "end_time": "2021-08-24T01:57:14.529850Z",
     "start_time": "2021-08-24T01:57:14.529442Z"
    },
    "vscode": {
     "languageId": "c++"
    }
   },
   "outputs": [],
   "source": [
    "void make01(int **pp)\n",
    "{\n",
    "   int * p=new int(66);\n",
    "   *pp=p; //这样便使用函数通过二级指针传参更改了一级指针的指向（值便也改了），但原指向的值不变。其实这和使用一级指针传参改变其指向的值类似，只不过多加了一级指针。\n",
    "}"
   ]
  },
  {
   "cell_type": "code",
   "execution_count": 8,
   "metadata": {
    "ExecuteTime": {
     "end_time": "2021-08-24T01:57:14.533935Z",
     "start_time": "2021-08-24T01:57:14.529955Z"
    },
    "vscode": {
     "languageId": "c++"
    }
   },
   "outputs": [],
   "source": [
    "int demo03()\n",
    "{\n",
    "     int a=5;\n",
    "     int *q=&a;\n",
    "     int **pp=&q;\n",
    "     cout<<\"address:\"<<&pp<<\"  \"<<pp<<\"    \"<<&q<<\"   \"<<q<<\"       value:\"<<*q<<\"  \"<<a<<endl;\n",
    "     make01(pp);\n",
    "     cout<<\"address:\"<<&pp<<\"  \"<<pp<<\"    \"<<&q<<\"   \"<<q<<\"       value:\"<<*q<<\"  \"<<a<<endl;\n",
    "    \n",
    "    return 0;\n",
    "}"
   ]
  },
  {
   "cell_type": "code",
   "execution_count": 9,
   "metadata": {
    "ExecuteTime": {
     "end_time": "2021-08-24T01:57:14.537084Z",
     "start_time": "2021-08-24T01:57:14.534042Z"
    },
    "vscode": {
     "languageId": "c++"
    }
   },
   "outputs": [
    {
     "name": "stdout",
     "output_type": "stream",
     "text": [
      "address:0x7ffe4f6c31a8  0x7ffe4f6c31b0    0x7ffe4f6c31b0   0x7ffe4f6c31bc       value:5  5\n",
      "address:0x7ffe4f6c31a8  0x7ffe4f6c31b0    0x7ffe4f6c31b0   0x5645a90b6fe0       value:66  5\n"
     ]
    }
   ],
   "source": [
    "demo03();"
   ]
  },
  {
   "attachments": {},
   "cell_type": "markdown",
   "metadata": {},
   "source": [
    "### 指针引用传参"
   ]
  },
  {
   "cell_type": "code",
   "execution_count": 10,
   "metadata": {
    "ExecuteTime": {
     "end_time": "2021-08-24T01:57:14.537531Z",
     "start_time": "2021-08-24T01:57:14.537197Z"
    },
    "vscode": {
     "languageId": "c++"
    }
   },
   "outputs": [],
   "source": [
    "void make02(int *pp)\n",
    "{\n",
    "    pp=new int(66); //试图改变p指向的地址，但没有用，看运行结果。\n",
    "}"
   ]
  },
  {
   "cell_type": "code",
   "execution_count": 11,
   "metadata": {
    "ExecuteTime": {
     "end_time": "2021-08-24T01:57:14.540143Z",
     "start_time": "2021-08-24T01:57:14.537637Z"
    },
    "vscode": {
     "languageId": "c++"
    }
   },
   "outputs": [],
   "source": [
    "int demo04()\n",
    "{\n",
    "    int a=5;\n",
    "    int *p=&a; //指针变量指向一个int类型的地址\n",
    "    cout<<\"address:\"<<&a<<\"       value:\"<<a<<endl;\n",
    "    cout<<\"address:\"<<p<<\"       value:\"<<*p<<endl;\n",
    "    make02(p);\n",
    "    cout<<\"address:\"<<p<<\"       value:\"<<*p<<endl;\n",
    "    \n",
    "    return 0;\n",
    "}"
   ]
  },
  {
   "cell_type": "code",
   "execution_count": 12,
   "metadata": {
    "ExecuteTime": {
     "end_time": "2021-08-24T01:57:14.542767Z",
     "start_time": "2021-08-24T01:57:14.540249Z"
    },
    "vscode": {
     "languageId": "c++"
    }
   },
   "outputs": [
    {
     "name": "stdout",
     "output_type": "stream",
     "text": [
      "address:0x7ffe4f6c31bc       value:5\n",
      "address:0x7ffe4f6c31bc       value:5\n",
      "address:0x7ffe4f6c31bc       value:5\n"
     ]
    }
   ],
   "source": [
    "demo04();"
   ]
  },
  {
   "cell_type": "code",
   "execution_count": 13,
   "metadata": {
    "ExecuteTime": {
     "end_time": "2021-08-24T01:57:14.543214Z",
     "start_time": "2021-08-24T01:57:14.542870Z"
    },
    "vscode": {
     "languageId": "c++"
    }
   },
   "outputs": [],
   "source": [
    "void make03(int *&pp)\n",
    "{\n",
    "    pp=new int(66); //此时pp相当于p的别名，所以改的就是指针p本身，所以更改成功。\n",
    "}\n"
   ]
  },
  {
   "cell_type": "code",
   "execution_count": 14,
   "metadata": {
    "ExecuteTime": {
     "end_time": "2021-08-24T01:57:14.545811Z",
     "start_time": "2021-08-24T01:57:14.543317Z"
    },
    "vscode": {
     "languageId": "c++"
    }
   },
   "outputs": [],
   "source": [
    "int demo05()\n",
    "{\n",
    "    int a=5;\n",
    "    int *p=&a; //指针变量指向一个int类型的地址\n",
    "    cout<<\"address:\"<<&a<<\"       value:\"<<a<<endl;\n",
    "    cout<<\"address:\"<<p<<\"       value:\"<<*p<<endl;\n",
    "    make03(p);\n",
    "    cout<<\"address:\"<<p<<\"       value:\"<<*p<<endl;\n",
    "    \n",
    "    return 0;\n",
    "}"
   ]
  },
  {
   "cell_type": "code",
   "execution_count": 15,
   "metadata": {
    "ExecuteTime": {
     "end_time": "2021-08-24T01:57:14.548439Z",
     "start_time": "2021-08-24T01:57:14.545913Z"
    },
    "vscode": {
     "languageId": "c++"
    }
   },
   "outputs": [
    {
     "name": "stdout",
     "output_type": "stream",
     "text": [
      "address:0x7ffe37678efc       value:5\n",
      "address:0x7ffe37678efc       value:5\n",
      "address:0x55f86252acf0       value:66\n"
     ]
    }
   ],
   "source": [
    "demo05();"
   ]
  }
 ],
 "metadata": {
  "kernelspec": {
   "display_name": "C++11",
   "language": "C++11",
   "name": "xcpp11"
  },
  "language_info": {
   "codemirror_mode": "text/x-c++src",
   "file_extension": ".cpp",
   "mimetype": "text/x-c++src",
   "name": "C++11",
   "version": "11"
  },
  "toc": {
   "base_numbering": 1,
   "nav_menu": {},
   "number_sections": true,
   "sideBar": true,
   "skip_h1_title": false,
   "title_cell": "Table of Contents",
   "title_sidebar": "Contents",
   "toc_cell": false,
   "toc_position": {},
   "toc_section_display": true,
   "toc_window_display": false
  }
 },
 "nbformat": 4,
 "nbformat_minor": 4
}
