{
 "cells": [
  {
   "cell_type": "code",
   "execution_count": null,
   "metadata": {},
   "outputs": [],
   "source": []
  },
  {
   "cell_type": "markdown",
   "metadata": {},
   "source": [
    "## static_cast"
   ]
  },
  {
   "cell_type": "code",
   "execution_count": 1,
   "metadata": {
    "ExecuteTime": {
     "end_time": "2021-07-23T10:30:08.367620Z",
     "start_time": "2021-07-23T10:30:08.364630Z"
    }
   },
   "outputs": [],
   "source": [
    "#include <iostream>\n",
    "using namespace std;\n",
    "\n",
    "class A\n",
    "{\n",
    "public:\n",
    "    operator int() { return 1; }\n",
    "    operator char*() { return NULL; }\n",
    "};"
   ]
  },
  {
   "cell_type": "code",
   "execution_count": 2,
   "metadata": {
    "ExecuteTime": {
     "end_time": "2021-07-23T10:30:08.368264Z",
     "start_time": "2021-07-23T10:30:08.367783Z"
    }
   },
   "outputs": [],
   "source": [
    "A a;\n",
    "int n;\n",
    "char const* p = \"New Dragon Inn\";"
   ]
  },
  {
   "cell_type": "code",
   "execution_count": 3,
   "metadata": {
    "ExecuteTime": {
     "end_time": "2021-07-23T10:30:08.709469Z",
     "start_time": "2021-07-23T10:30:08.368408Z"
    }
   },
   "outputs": [
    {
     "data": {
      "text/plain": [
       "3"
      ]
     },
     "execution_count": 3,
     "metadata": {},
     "output_type": "execute_result"
    }
   ],
   "source": [
    "n = static_cast <int> (3.14);  // n 的值变为 3"
   ]
  },
  {
   "cell_type": "code",
   "execution_count": 4,
   "metadata": {
    "ExecuteTime": {
     "end_time": "2021-07-23T10:30:08.952545Z",
     "start_time": "2021-07-23T10:30:08.709595Z"
    }
   },
   "outputs": [
    {
     "data": {
      "text/plain": [
       "1"
      ]
     },
     "execution_count": 4,
     "metadata": {},
     "output_type": "execute_result"
    }
   ],
   "source": [
    "n = static_cast <int> (a); // 调用 a.operator int，n 的值变为 1"
   ]
  },
  {
   "cell_type": "code",
   "execution_count": 5,
   "metadata": {
    "ExecuteTime": {
     "end_time": "2021-07-23T10:30:09.188467Z",
     "start_time": "2021-07-23T10:30:08.952661Z"
    }
   },
   "outputs": [
    {
     "data": {
      "text/plain": [
       "nullptr"
      ]
     },
     "execution_count": 5,
     "metadata": {},
     "output_type": "execute_result"
    }
   ],
   "source": [
    "p = static_cast <char*> (a);   // 调用 a.operator char*，p 的值变为 NULL"
   ]
  },
  {
   "cell_type": "code",
   "execution_count": 6,
   "metadata": {
    "ExecuteTime": {
     "end_time": "2021-07-23T10:30:09.190209Z",
     "start_time": "2021-07-23T10:30:09.188590Z"
    }
   },
   "outputs": [
    {
     "name": "stderr",
     "output_type": "stream",
     "text": [
      "\u001b[1minput_line_18:2:6: \u001b[0m\u001b[0;1;31merror: \u001b[0m\u001b[1mstatic_cast from 'const char *' to 'int' is not allowed\u001b[0m\n",
      " n = static_cast <int> (p); // 编译错误，static_cast不能将指针转换成整型\n",
      "\u001b[0;1;32m     ^~~~~~~~~~~~~~~~~~~~~\n",
      "\u001b[0m"
     ]
    },
    {
     "ename": "Interpreter Error",
     "evalue": "",
     "output_type": "error",
     "traceback": [
      "Interpreter Error: "
     ]
    }
   ],
   "source": [
    "n = static_cast <int> (p); // 编译错误，static_cast不能将指针转换成整型"
   ]
  },
  {
   "cell_type": "code",
   "execution_count": null,
   "metadata": {
    "ExecuteTime": {
     "end_time": "2021-07-23T10:30:09.190260Z",
     "start_time": "2021-07-23T10:30:08.332Z"
    }
   },
   "outputs": [],
   "source": [
    "p = static_cast <char*> (n);   // 编译错误，static_cast 不能将整型转换成指针"
   ]
  },
  {
   "cell_type": "markdown",
   "metadata": {},
   "source": [
    "## reinterpret_cast"
   ]
  },
  {
   "cell_type": "code",
   "execution_count": 1,
   "metadata": {
    "ExecuteTime": {
     "end_time": "2021-07-23T10:32:16.607035Z",
     "start_time": "2021-07-23T10:32:16.604498Z"
    }
   },
   "outputs": [],
   "source": [
    "#include <iostream>\n",
    "using namespace std;\n",
    "\n",
    "class A\n",
    "{\n",
    "public:\n",
    "    int i;\n",
    "    int j;\n",
    "    A(int n):i(n),j(n) { }\n",
    "};"
   ]
  },
  {
   "cell_type": "code",
   "execution_count": 2,
   "metadata": {
    "ExecuteTime": {
     "end_time": "2021-07-23T10:32:20.652422Z",
     "start_time": "2021-07-23T10:32:20.308706Z"
    }
   },
   "outputs": [
    {
     "name": "stdout",
     "output_type": "stream",
     "text": [
      "200,100\n"
     ]
    },
    {
     "data": {
      "text/plain": [
       "@0x7f716e7fab60"
      ]
     },
     "execution_count": 2,
     "metadata": {},
     "output_type": "execute_result"
    }
   ],
   "source": [
    "A a(100);\n",
    "int &r = reinterpret_cast<int&>(a); // 强行让 r 引用 a\n",
    "\n",
    "r = 200;// 把 a.i 变成了 200\n",
    "cout << a.i << \",\" << a.j << endl;  // 输出 200,100"
   ]
  },
  {
   "cell_type": "code",
   "execution_count": 3,
   "metadata": {
    "ExecuteTime": {
     "end_time": "2021-07-23T10:32:26.569900Z",
     "start_time": "2021-07-23T10:32:25.756101Z"
    }
   },
   "outputs": [
    {
     "name": "stdout",
     "output_type": "stream",
     "text": [
      "400\n"
     ]
    },
    {
     "data": {
      "text/plain": [
       "@0x7f716e7fab60"
      ]
     },
     "execution_count": 3,
     "metadata": {},
     "output_type": "execute_result"
    }
   ],
   "source": [
    "int n = 300;\n",
    "A *pa = reinterpret_cast<A*> (&n);  // 强行让 pa 指向 n\n",
    "pa->i = 400;// n 变成 400\n",
    "pa->j = 500;// 此条语句不安全，很可能导致程序崩溃\n",
    "cout << n << endl;  // 输出 400"
   ]
  },
  {
   "cell_type": "code",
   "execution_count": 4,
   "metadata": {
    "ExecuteTime": {
     "end_time": "2021-07-23T10:32:39.292429Z",
     "start_time": "2021-07-23T10:32:39.286051Z"
    }
   },
   "outputs": [
    {
     "name": "stderr",
     "output_type": "stream",
     "text": [
      "\u001b[1minput_line_15:4:18: \u001b[0m\u001b[0;1;31merror: \u001b[0m\u001b[1mcast from pointer to smaller type 'unsigned int' loses information\u001b[0m\n",
      "unsigned int u = reinterpret_cast<unsigned int>(pa);   // pa逐个比特拷贝到u\n",
      "\u001b[0;1;32m                 ^~~~~~~~~~~~~~~~~~~~~~~~~~~~~~~~~~\n",
      "\u001b[0m"
     ]
    },
    {
     "ename": "Interpreter Error",
     "evalue": "",
     "output_type": "error",
     "traceback": [
      "Interpreter Error: "
     ]
    }
   ],
   "source": [
    "long long la = 0x12345678abcdLL;\n",
    "pa = reinterpret_cast<A*>(la); // la太长，只取低32位0x5678abcd拷贝给pa\n",
    "unsigned int u = reinterpret_cast<unsigned int>(pa);   // pa逐个比特拷贝到u\n",
    "cout << hex << u << endl;  // 输出 5678abcd"
   ]
  },
  {
   "cell_type": "code",
   "execution_count": 5,
   "metadata": {
    "ExecuteTime": {
     "end_time": "2021-07-23T10:32:43.492462Z",
     "start_time": "2021-07-23T10:32:43.253451Z"
    }
   },
   "outputs": [
    {
     "data": {
      "text/plain": [
       "@0x7ffdb82fd240"
      ]
     },
     "execution_count": 5,
     "metadata": {},
     "output_type": "execute_result"
    }
   ],
   "source": [
    "typedef void (* PF1) (int);\n",
    "typedef int (* PF2) (int,char *);\n",
    "PF1 pf1;  \n",
    "PF2 pf2;\n",
    "pf2 = reinterpret_cast<PF2>(pf1);  // 两个不同类型的函数指针之间可以互相转换"
   ]
  },
  {
   "cell_type": "markdown",
   "metadata": {},
   "source": [
    "## const_cast"
   ]
  },
  {
   "cell_type": "code",
   "execution_count": 1,
   "metadata": {
    "ExecuteTime": {
     "end_time": "2021-07-23T10:36:48.452006Z",
     "start_time": "2021-07-23T10:36:48.449007Z"
    }
   },
   "outputs": [],
   "source": [
    "#include <iostream>\n",
    "#include <string>\n",
    "using namespace std;"
   ]
  },
  {
   "cell_type": "code",
   "execution_count": 2,
   "metadata": {
    "ExecuteTime": {
     "end_time": "2021-07-23T10:36:49.482422Z",
     "start_time": "2021-07-23T10:36:49.477030Z"
    }
   },
   "outputs": [],
   "source": [
    "const string s = \"Inception\";\n",
    "string& p = const_cast <string&> (s);\n",
    "string* ps = const_cast <string*> (&s);  // &s 的类型是 const string*"
   ]
  },
  {
   "cell_type": "markdown",
   "metadata": {},
   "source": [
    "## dynamic_cast"
   ]
  },
  {
   "cell_type": "code",
   "execution_count": 1,
   "metadata": {
    "ExecuteTime": {
     "end_time": "2021-07-23T10:36:20.959930Z",
     "start_time": "2021-07-23T10:36:20.92809Z"
    }
   },
   "outputs": [],
   "source": [
    "#include <iostream>\n",
    "#include <string>\n",
    "using namespace std;\n",
    "\n",
    "class Base\n",
    "{ \n",
    "public:\n",
    "    virtual ~Base() {}  //有虚函数，因此是多态基类\n",
    "};\n",
    "\n",
    "class Derived : public Base { };"
   ]
  },
  {
   "cell_type": "code",
   "execution_count": 2,
   "metadata": {
    "ExecuteTime": {
     "end_time": "2021-07-23T10:36:20.101292Z",
     "start_time": "2021-07-23T10:36:20.96215Z"
    }
   },
   "outputs": [],
   "source": [
    "Base b;\n",
    "Derived d;\n",
    "Derived* pd;"
   ]
  },
  {
   "cell_type": "code",
   "execution_count": 3,
   "metadata": {
    "ExecuteTime": {
     "end_time": "2021-07-23T10:36:20.104668Z",
     "start_time": "2021-07-23T10:36:20.101517Z"
    }
   },
   "outputs": [],
   "source": [
    "pd = reinterpret_cast <Derived*> (&b);  // 此处pd不会为 NULL。reinterpret_cast不检查安全性，总是进行转换\n",
    "if (pd == NULL){\n",
    "    cout << \"unsafe reinterpret_cast\" << endl; // 不会执行\n",
    "}"
   ]
  },
  {
   "cell_type": "code",
   "execution_count": 4,
   "metadata": {
    "ExecuteTime": {
     "end_time": "2021-07-23T10:36:20.106454Z",
     "start_time": "2021-07-23T10:36:20.104777Z"
    }
   },
   "outputs": [
    {
     "name": "stdout",
     "output_type": "stream",
     "text": [
      "unsafe dynamic_cast1\n"
     ]
    }
   ],
   "source": [
    "pd = dynamic_cast <Derived*> (&b);  // 结果会是NULL，因为 &b 不指向派生类对象，此转换不安全\n",
    "if (pd == NULL) {\n",
    "    cout << \"unsafe dynamic_cast1\" << endl;  // 会执行\n",
    "}"
   ]
  },
  {
   "cell_type": "code",
   "execution_count": 5,
   "metadata": {
    "ExecuteTime": {
     "end_time": "2021-07-23T10:36:20.107914Z",
     "start_time": "2021-07-23T10:36:20.106542Z"
    }
   },
   "outputs": [],
   "source": [
    "pd = dynamic_cast <Derived*> (&d);  // 安全的转换，此处 pd 不会为 NULL\n",
    "if (pd == NULL){\n",
    "    cout << \"unsafe dynamic_cast2\" << endl;  // 不会执行\n",
    "} "
   ]
  }
 ],
 "metadata": {
  "kernelspec": {
   "display_name": "C++14",
   "language": "C++14",
   "name": "xcpp14"
  },
  "language_info": {
   "codemirror_mode": "text/x-c++src",
   "file_extension": ".cpp",
   "mimetype": "text/x-c++src",
   "name": "c++",
   "version": "14"
  },
  "toc": {
   "base_numbering": 1,
   "nav_menu": {},
   "number_sections": true,
   "sideBar": true,
   "skip_h1_title": false,
   "title_cell": "Table of Contents",
   "title_sidebar": "Contents",
   "toc_cell": false,
   "toc_position": {},
   "toc_section_display": true,
   "toc_window_display": false
  }
 },
 "nbformat": 4,
 "nbformat_minor": 4
}
