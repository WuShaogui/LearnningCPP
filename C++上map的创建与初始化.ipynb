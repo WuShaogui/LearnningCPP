{
 "cells": [
  {
   "cell_type": "code",
   "execution_count": null,
   "metadata": {},
   "outputs": [],
   "source": []
  },
  {
   "cell_type": "code",
   "execution_count": 1,
   "metadata": {
    "ExecuteTime": {
     "end_time": "2021-07-23T07:28:37.171580Z",
     "start_time": "2021-07-23T07:28:37.169292Z"
    }
   },
   "outputs": [],
   "source": [
    "#include <iostream>\n",
    "#include <map>\n",
    "using namespace std;"
   ]
  },
  {
   "cell_type": "code",
   "execution_count": 2,
   "metadata": {
    "ExecuteTime": {
     "end_time": "2021-07-23T07:28:37.188584Z",
     "start_time": "2021-07-23T07:28:37.171799Z"
    }
   },
   "outputs": [],
   "source": [
    "map<string,int> demoMap;"
   ]
  },
  {
   "cell_type": "markdown",
   "metadata": {},
   "source": [
    "## 直接赋值"
   ]
  },
  {
   "cell_type": "code",
   "execution_count": 3,
   "metadata": {
    "ExecuteTime": {
     "end_time": "2021-07-23T07:28:37.227887Z",
     "start_time": "2021-07-23T07:28:37.188698Z"
    }
   },
   "outputs": [
    {
     "name": "stdout",
     "output_type": "stream",
     "text": [
      "one-1\n"
     ]
    }
   ],
   "source": [
    "demoMap[\"one\"]=1;\n",
    "for(auto it=demoMap.begin();it!=demoMap.end();it++){\n",
    "    cout<<it->first<<\"-\"<<it->second<<endl;\n",
    "}"
   ]
  },
  {
   "cell_type": "markdown",
   "metadata": {},
   "source": [
    "## 使用insert添加"
   ]
  },
  {
   "cell_type": "code",
   "execution_count": 4,
   "metadata": {
    "ExecuteTime": {
     "end_time": "2021-07-23T07:28:37.287474Z",
     "start_time": "2021-07-23T07:28:37.227991Z"
    }
   },
   "outputs": [
    {
     "name": "stdout",
     "output_type": "stream",
     "text": [
      "four-4\n",
      "one-1\n",
      "three-3\n",
      "two-2\n"
     ]
    }
   ],
   "source": [
    "demoMap.insert({\"two\",2});\n",
    "demoMap.insert(make_pair(\"three\",3));\n",
    "demoMap.insert(pair<string,int>(\"four\",4));\n",
    "for(auto it=demoMap.begin();it!=demoMap.end();it++){\n",
    "    cout<<it->first<<\"-\"<<it->second<<endl;\n",
    "}"
   ]
  },
  {
   "cell_type": "markdown",
   "metadata": {},
   "source": [
    "## 列表初始化"
   ]
  },
  {
   "cell_type": "code",
   "execution_count": 5,
   "metadata": {
    "ExecuteTime": {
     "end_time": "2021-07-23T07:28:37.331021Z",
     "start_time": "2021-07-23T07:28:37.287621Z"
    }
   },
   "outputs": [
    {
     "name": "stdout",
     "output_type": "stream",
     "text": [
      "test1-3\n",
      "test11-1\n",
      "test111-2\n",
      "test1111-4\n"
     ]
    }
   ],
   "source": [
    "map<string,int> demoMap01={{\"test11\",1},{\"test111\",2},{\"test1\",3},{\"test1111\",4}};\n",
    "for(auto it=demoMap01.begin();it!=demoMap01.end();it++){\n",
    "    cout<<it->first<<\"-\"<<it->second<<endl;\n",
    "}"
   ]
  }
 ],
 "metadata": {
  "kernelspec": {
   "display_name": "C++14",
   "language": "C++14",
   "name": "xcpp14"
  },
  "language_info": {
   "codemirror_mode": "text/x-c++src",
   "file_extension": ".cpp",
   "mimetype": "text/x-c++src",
   "name": "c++",
   "version": "14"
  },
  "toc": {
   "base_numbering": 1,
   "nav_menu": {},
   "number_sections": true,
   "sideBar": true,
   "skip_h1_title": false,
   "title_cell": "Table of Contents",
   "title_sidebar": "Contents",
   "toc_cell": false,
   "toc_position": {},
   "toc_section_display": true,
   "toc_window_display": false
  }
 },
 "nbformat": 4,
 "nbformat_minor": 4
}
